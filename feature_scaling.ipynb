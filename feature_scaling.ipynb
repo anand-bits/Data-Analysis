{
 "cells": [
  {
   "cell_type": "markdown",
   "metadata": {},
   "source": [
    "# Feature Scaling in EDA (Exploratory Data Analysis)\n",
    "\n",
    "1. **Definition**:\n",
    "    - Feature scaling is a technique to standardize the independent variables of a dataset within a specific range.\n",
    "\n",
    "2. **Importance**:\n",
    "    - Ensures that all features contribute equally to the model.\n",
    "    - Improves the performance and training stability of machine learning algorithms.\n",
    "\n",
    "3. **Common Methods**:\n",
    "    - **Min-Max Scaling (Normalization)**:\n",
    "      - Scales the data to a fixed range, usually 0 to 1.\n",
    "      - Formula: X_scaled = (X - X_min) / (X_max - X_min)\n",
    "    - **Standardization (Z-score Normalization)**:\n",
    "      - Scales the data to have a mean of 0 and a standard deviation of 1.\n",
    "      - Formula: X_scaled = (X - mean) / std\n",
    "    - **Robust Scaling**:\n",
    "      - Uses median and interquartile range for scaling.\n",
    "      - Less sensitive to outliers.\n",
    "      - Formula: X_scaled = (X - median) / IQR\n",
    "\n",
    "4. **When to Use**:\n",
    "    - Algorithms that compute distances (e.g., KNN, SVM, K-means).\n",
    "    - Gradient-based algorithms (e.g., Linear Regression, Logistic Regression, Neural Networks).\n",
    "    - Principal Component Analysis (PCA).\n",
    "\n",
    "5. **Implementation in Python**:\n",
    "    ```python\n",
    "    from sklearn.preprocessing import MinMaxScaler, StandardScaler, RobustScaler\n",
    "\n",
    "    # Example data\n",
    "    data = [[-1, 2], [-0.5, 6], [0, 10], [1, 18]]\n",
    "\n",
    "    # Min-Max Scaling\n",
    "    min_max_scaler = MinMaxScaler()\n",
    "    data_min_max = min_max_scaler.fit_transform(data)\n",
    "\n",
    "    # Standardization\n",
    "    standard_scaler = StandardScaler()\n",
    "    data_standard = standard_scaler.fit_transform(data)\n",
    "\n",
    "    # Robust Scaling\n",
    "    robust_scaler = RobustScaler()\n",
    "    data_robust = robust_scaler.fit_transform(data)\n",
    "    ```\n",
    "\n",
    "6. **Considerations**:\n",
    "    - Always fit the scaler on the training data and transform both training and test data.\n",
    "    - Be cautious with scaling categorical features.\n",
    "    - Check the distribution of features before and after scaling.\n",
    "\n",
    "7. **Conclusion**:\n",
    "    - Feature scaling is a crucial step in the EDA process.\n",
    "    - It ensures that machine learning models perform optimally and consistently."
   ]
  },
  {
   "cell_type": "markdown",
   "metadata": {},
   "source": []
  }
 ],
 "metadata": {
  "language_info": {
   "name": "python"
  }
 },
 "nbformat": 4,
 "nbformat_minor": 2
}
