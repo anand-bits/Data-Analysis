{
 "cells": [
  {
   "cell_type": "markdown",
   "metadata": {},
   "source": [
    "# Outliers\n",
    "\n",
    "## Definition\n",
    "Outliers are data points that differ significantly from other observations. They can occur due to variability in the data or may indicate experimental errors.\n",
    "\n",
    "## Types of Outliers\n",
    "1. **Univariate Outliers**: Outliers in one-dimensional data.\n",
    "2. **Multivariate Outliers**: Outliers in multi-dimensional data.\n",
    "\n",
    "## Causes of Outliers\n",
    "1. Data entry errors\n",
    "2. Measurement errors\n",
    "3. Experimental errors\n",
    "4. Natural variation ina data\n",
    "5. Changes in system behavior\n",
    "\n",
    "## Identifying Outliers\n",
    "1. **Visualization Techniques**:\n",
    "    - Box plots\n",
    "    - Scatter plots\n",
    "    - Histogram\n",
    "2. **Statistical Methods**:\n",
    "    - Z-score\n",
    "    - IQR (Interquartile Range)\n",
    "    - Grubbs' Test\n",
    "    - Dixon's Q Test\n",
    "\n",
    "## Handling Outliers\n",
    "1. **Removing Outliers**: If the outliers are due to errors, they can be removed.\n",
    "2. **Transforming Data**: Apply transformations like log, square root, or cube root to reduce the impact of outliers.\n",
    "3. **Imputation**: Replace outliers with mean, median, or mode.\n",
    "4. **Capping**: Limit the extreme values to a certain percentile.\n",
    "5. **Using Robust Methods**: Use statistical methods that are less sensitive to outliers, such as median or robust regression.\n",
    "\n",
    "## Considerations\n",
    "- Always investigate the cause of outliers before deciding on the method to handle them.\n",
    "- Removing outliers can lead to loss of valuable information.\n",
    "- The method chosen should align with the goals of the analysis."
   ]
  },
  {
   "cell_type": "markdown",
   "metadata": {},
   "source": []
  }
 ],
 "metadata": {
  "language_info": {
   "name": "python"
  }
 },
 "nbformat": 4,
 "nbformat_minor": 2
}
